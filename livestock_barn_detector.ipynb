{
  "nbformat": 4,
  "nbformat_minor": 0,
  "metadata": {
    "colab": {
      "name": "livestock-barn-detector.ipynb",
      "version": "0.3.2",
      "provenance": [],
      "collapsed_sections": [],
      "toc_visible": true,
      "include_colab_link": true
    },
    "kernelspec": {
      "name": "python3",
      "display_name": "Python 3"
    }
  },
  "cells": [
    {
      "cell_type": "markdown",
      "metadata": {
        "id": "view-in-github",
        "colab_type": "text"
      },
      "source": [
        "<a href=\"https://colab.research.google.com/github/TheAliAjami/Th_Data_Incubator_Capstone/blob/master/livestock_barn_detector.ipynb\" target=\"_parent\"><img src=\"https://colab.research.google.com/assets/colab-badge.svg\" alt=\"Open In Colab\"/></a>"
      ]
    },
    {
      "cell_type": "code",
      "metadata": {
        "id": "j-aPOmiIl-fj",
        "colab_type": "code",
        "colab": {}
      },
      "source": [
        "import os\n",
        "from pydrive.auth import GoogleAuth\n",
        "from pydrive.drive import GoogleDrive\n",
        "from google.colab import auth\n",
        "from oauth2client.client import GoogleCredentials"
      ],
      "execution_count": 0,
      "outputs": []
    },
    {
      "cell_type": "code",
      "metadata": {
        "id": "vLZ43dM393G3",
        "colab_type": "code",
        "colab": {}
      },
      "source": [
        "import shutil\n",
        "#shutil.rmtree('train')"
      ],
      "execution_count": 0,
      "outputs": []
    },
    {
      "cell_type": "markdown",
      "metadata": {
        "id": "hGZxqS0cqcRX",
        "colab_type": "text"
      },
      "source": [
        "# Upload and unzip file"
      ]
    },
    {
      "cell_type": "code",
      "metadata": {
        "id": "d-NEpRCnn52B",
        "colab_type": "code",
        "colab": {}
      },
      "source": [
        "%%capture\n",
        "!unzip train.zip"
      ],
      "execution_count": 0,
      "outputs": []
    },
    {
      "cell_type": "code",
      "metadata": {
        "id": "Ig8M9AYToJwT",
        "colab_type": "code",
        "colab": {}
      },
      "source": [
        "import keras\n",
        "from keras.models import Sequential\n",
        "from keras.layers import Dense, Dropout, Flatten\n",
        "from keras.layers import Conv2D, MaxPooling2D\n",
        "from keras.utils import to_categorical\n",
        "from keras.preprocessing import image\n",
        "import numpy as np\n",
        "import pandas as pd\n",
        "import matplotlib.pyplot as plt\n",
        "from sklearn.model_selection import train_test_split\n",
        "from keras.utils import to_categorical\n",
        "from tqdm import tqdm"
      ],
      "execution_count": 0,
      "outputs": []
    },
    {
      "cell_type": "code",
      "metadata": {
        "id": "oMkC3l04ph6G",
        "colab_type": "code",
        "colab": {}
      },
      "source": [
        "train = pd.read_csv('train.csv')\n"
      ],
      "execution_count": 0,
      "outputs": []
    },
    {
      "cell_type": "code",
      "metadata": {
        "id": "hzvfdfm1pngU",
        "colab_type": "code",
        "outputId": "7beb466f-b270-457b-db43-f6cd81690b29",
        "colab": {
          "base_uri": "https://localhost:8080/",
          "height": 35
        }
      },
      "source": [
        "# We have grayscale images, so while loading the images we will keep grayscale=True, if you have RGB images, you should set grayscale as False\n",
        "train_image = []\n",
        "for i in tqdm(range(train.shape[0])):\n",
        "    img = image.load_img('train/'+train['id'][i], target_size=(256,256))\n",
        "    img = image.img_to_array(img)\n",
        "    img = img/255\n",
        "    train_image.append(img)\n",
        "X = np.array(train_image)"
      ],
      "execution_count": 21,
      "outputs": [
        {
          "output_type": "stream",
          "text": [
            "100%|██████████| 236/236 [00:00<00:00, 442.73it/s]\n"
          ],
          "name": "stderr"
        }
      ]
    },
    {
      "cell_type": "code",
      "metadata": {
        "id": "d9a5VImjuWCo",
        "colab_type": "code",
        "colab": {}
      },
      "source": [
        "y=train['label'].values\n",
        "y = to_categorical(y)"
      ],
      "execution_count": 0,
      "outputs": []
    },
    {
      "cell_type": "code",
      "metadata": {
        "id": "8s_Scbk7z4mX",
        "colab_type": "code",
        "colab": {}
      },
      "source": [
        "X_train, X_test, y_train, y_test = train_test_split(X, y, random_state=42, test_size=0.2)\n"
      ],
      "execution_count": 0,
      "outputs": []
    },
    {
      "cell_type": "code",
      "metadata": {
        "id": "YKPY50Pgz8t_",
        "colab_type": "code",
        "colab": {}
      },
      "source": [
        "model = Sequential()\n",
        "model.add(Conv2D(32, kernel_size=(3, 3),activation='relu',input_shape=(256,256,3)))\n",
        "model.add(MaxPooling2D(pool_size=(2, 2)))\n",
        "model.add(Conv2D(64, (3, 3), activation='relu'))\n",
        "model.add(MaxPooling2D(pool_size=(2, 2)))\n",
        "model.add(Conv2D(128, (3, 3), activation='relu'))\n",
        "model.add(MaxPooling2D(pool_size=(2, 2)))\n",
        "model.add(Conv2D(128, (3, 3), activation='relu'))\n",
        "model.add(MaxPooling2D(pool_size=(2, 2)))\n",
        "model.add(Flatten())\n",
        "model.add(Dropout(0.25))\n",
        "model.add(Dense(512, activation='relu'))\n",
        "model.add(Dense(2, activation='sigmoid'))"
      ],
      "execution_count": 0,
      "outputs": []
    },
    {
      "cell_type": "code",
      "metadata": {
        "id": "Qh6qE3wW0-Zk",
        "colab_type": "code",
        "colab": {}
      },
      "source": [
        "model.compile(loss='categorical_crossentropy',optimizer='Adam',metrics=['accuracy'])\n"
      ],
      "execution_count": 0,
      "outputs": []
    },
    {
      "cell_type": "code",
      "metadata": {
        "id": "diVEuS371LKM",
        "colab_type": "code",
        "outputId": "e5f7aad0-494f-4525-88b4-9a9ff32a81c6",
        "colab": {
          "base_uri": "https://localhost:8080/",
          "height": 748
        }
      },
      "source": [
        "Model = model.fit(X_train, y_train, epochs=20, validation_data=(X_test, y_test))\n"
      ],
      "execution_count": 26,
      "outputs": [
        {
          "output_type": "stream",
          "text": [
            "Train on 188 samples, validate on 48 samples\n",
            "Epoch 1/20\n",
            "188/188 [==============================] - 28s 151ms/step - loss: 0.7240 - acc: 0.4734 - val_loss: 0.6930 - val_acc: 0.4792\n",
            "Epoch 2/20\n",
            "188/188 [==============================] - 28s 147ms/step - loss: 0.6949 - acc: 0.5372 - val_loss: 0.6895 - val_acc: 0.5208\n",
            "Epoch 3/20\n",
            "188/188 [==============================] - 27s 146ms/step - loss: 0.6895 - acc: 0.5372 - val_loss: 0.6873 - val_acc: 0.6667\n",
            "Epoch 4/20\n",
            "188/188 [==============================] - 28s 147ms/step - loss: 0.6821 - acc: 0.6383 - val_loss: 0.6823 - val_acc: 0.5208\n",
            "Epoch 5/20\n",
            "188/188 [==============================] - 28s 147ms/step - loss: 0.6538 - acc: 0.6170 - val_loss: 0.6405 - val_acc: 0.6250\n",
            "Epoch 6/20\n",
            "188/188 [==============================] - 28s 147ms/step - loss: 0.6286 - acc: 0.6755 - val_loss: 0.6597 - val_acc: 0.6250\n",
            "Epoch 7/20\n",
            "188/188 [==============================] - 27s 146ms/step - loss: 0.6246 - acc: 0.6809 - val_loss: 0.6345 - val_acc: 0.6667\n",
            "Epoch 8/20\n",
            "188/188 [==============================] - 28s 147ms/step - loss: 0.6298 - acc: 0.6383 - val_loss: 0.6083 - val_acc: 0.6250\n",
            "Epoch 9/20\n",
            "188/188 [==============================] - 28s 147ms/step - loss: 0.5334 - acc: 0.7394 - val_loss: 0.5507 - val_acc: 0.6458\n",
            "Epoch 10/20\n",
            "188/188 [==============================] - 28s 146ms/step - loss: 0.4115 - acc: 0.7500 - val_loss: 0.5146 - val_acc: 0.6667\n",
            "Epoch 11/20\n",
            "188/188 [==============================] - 28s 146ms/step - loss: 0.4293 - acc: 0.7819 - val_loss: 0.5327 - val_acc: 0.7708\n",
            "Epoch 12/20\n",
            "188/188 [==============================] - 27s 146ms/step - loss: 0.3501 - acc: 0.8191 - val_loss: 0.8262 - val_acc: 0.7708\n",
            "Epoch 13/20\n",
            "188/188 [==============================] - 28s 147ms/step - loss: 0.2943 - acc: 0.8617 - val_loss: 0.5411 - val_acc: 0.7917\n",
            "Epoch 14/20\n",
            "188/188 [==============================] - 28s 147ms/step - loss: 0.3065 - acc: 0.8564 - val_loss: 0.4618 - val_acc: 0.7500\n",
            "Epoch 15/20\n",
            "188/188 [==============================] - 28s 147ms/step - loss: 0.2289 - acc: 0.9362 - val_loss: 0.4281 - val_acc: 0.8125\n",
            "Epoch 16/20\n",
            "188/188 [==============================] - 28s 147ms/step - loss: 0.1334 - acc: 0.9468 - val_loss: 0.4861 - val_acc: 0.8750\n",
            "Epoch 17/20\n",
            "188/188 [==============================] - 28s 148ms/step - loss: 0.0481 - acc: 0.9787 - val_loss: 0.6174 - val_acc: 0.9167\n",
            "Epoch 18/20\n",
            "188/188 [==============================] - 28s 147ms/step - loss: 0.0464 - acc: 0.9840 - val_loss: 0.5897 - val_acc: 0.8958\n",
            "Epoch 19/20\n",
            "188/188 [==============================] - 28s 147ms/step - loss: 0.0721 - acc: 0.9894 - val_loss: 0.7075 - val_acc: 0.8125\n",
            "Epoch 20/20\n",
            "188/188 [==============================] - 28s 147ms/step - loss: 0.0657 - acc: 0.9787 - val_loss: 0.2948 - val_acc: 0.9167\n"
          ],
          "name": "stdout"
        }
      ]
    },
    {
      "cell_type": "code",
      "metadata": {
        "id": "PuyVq16UaYnl",
        "colab_type": "code",
        "outputId": "9fb36edc-629b-4be4-c2af-e6d56e280bdc",
        "colab": {
          "base_uri": "https://localhost:8080/",
          "height": 545
        }
      },
      "source": [
        "acc = Model.history['acc']\n",
        "val_acc = Model.history['val_acc']\n",
        "loss = Model.history['loss']\n",
        "val_loss = Model.history['val_loss']\n",
        "\n",
        "epochs = range(1, len(acc) + 1)\n",
        "\n",
        "#Train and validation accuracy\n",
        "plt.plot(epochs, acc, 'b', label='Training accurarcy')\n",
        "plt.plot(epochs, val_acc, 'r', label='Validation accurarcy')\n",
        "plt.title('Training and Validation accurarcy')\n",
        "plt.legend()\n",
        "\n",
        "plt.figure()\n",
        "#Train and validation loss\n",
        "plt.plot(epochs, loss, 'b', label='Training loss')\n",
        "plt.plot(epochs, val_loss, 'r', label='Validation loss')\n",
        "plt.title('Training and Validation loss')\n",
        "plt.legend()\n",
        "\n",
        "plt.show()"
      ],
      "execution_count": 27,
      "outputs": [
        {
          "output_type": "display_data",
          "data": {
            "image/png": "[encoded data removed]",
            "text/plain": [
              "<Figure size 432x288 with 1 Axes>"
            ]
          },
          "metadata": {
            "tags": []
          }
        },
        {
          "output_type": "display_data",
          "data": {
            "image/png": "[encoded data removed]",
            "text/plain": [
              "<Figure size 432x288 with 1 Axes>"
            ]
          },
          "metadata": {
            "tags": []
          }
        }
      ]
    },
    {
      "cell_type": "code",
      "metadata": {
        "id": "9sPYMfdS1Yhj",
        "colab_type": "code",
        "colab": {}
      },
      "source": [
        "%%capture\n",
        "!unzip test.zip;"
      ],
      "execution_count": 0,
      "outputs": []
    },
    {
      "cell_type": "code",
      "metadata": {
        "id": "gRvoV5ow1cKC",
        "colab_type": "code",
        "colab": {}
      },
      "source": [
        "test = pd.read_csv('test.csv')"
      ],
      "execution_count": 0,
      "outputs": []
    },
    {
      "cell_type": "code",
      "metadata": {
        "id": "kRiAzVmF09tr",
        "colab_type": "code",
        "colab": {
          "base_uri": "https://localhost:8080/",
          "height": 35
        },
        "outputId": "9975a339-d472-4f26-e7e9-3adc1a617e80"
      },
      "source": [
        "test_image = []\n",
        "for i in tqdm(range(test.shape[0])):\n",
        "    img = image.load_img('test/'+test['id'][i], target_size=(256,256))\n",
        "    img = image.img_to_array(img)\n",
        "    img = img/255\n",
        "    test_image.append(img)\n",
        "test_image = np.array(test_image)\n",
        "prediction = model.predict_classes(test_image)"
      ],
      "execution_count": 39,
      "outputs": [
        {
          "output_type": "stream",
          "text": [
            "100%|██████████| 60/60 [00:00<00:00, 271.97it/s]\n"
          ],
          "name": "stderr"
        }
      ]
    },
    {
      "cell_type": "code",
      "metadata": {
        "id": "_r4DPetK1rZL",
        "colab_type": "code",
        "colab": {
          "base_uri": "https://localhost:8080/",
          "height": 35
        },
        "outputId": "a7547b5c-d9d9-4d4b-a097-1633fc3366e3"
      },
      "source": [
        "from sklearn.metrics import accuracy_score\n",
        "accuracy = accuracy_score(test['label'], prediction)\n",
        "print('Accuracy on test figures: %f' % accuracy)"
      ],
      "execution_count": 44,
      "outputs": [
        {
          "output_type": "stream",
          "text": [
            "Accuracy on test figures: 0.883333\n"
          ],
          "name": "stdout"
        }
      ]
    }
  ]
}